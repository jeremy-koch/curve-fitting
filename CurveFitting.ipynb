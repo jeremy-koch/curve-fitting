{
 "cells": [
  {
   "cell_type": "markdown",
   "metadata": {},
   "source": [
    "<p style=\"font-weight:600; font-size:36px\">Model Fitting in Python</p>\n",
    "\n",
    "<p style=\"font-weight:400; font-size:24px\">Jeremy A. Koch -- 21 Dec 2020</p>\n",
    "\n",
    "\n",
    "\n",
    "This notebook contains code examples for fitting data with complicated implementations. Included are fits to:\n",
    "1. a functional model with data spanning orders of magnitude\n",
    "2. a two-state functional model with two separate data sets\n",
    "3. a first-order ODE model with without a known initial condition\n",
    "4. a second-order ODE model\n",
    "\n",
    "Some useful snippets are included at the end.\n",
    "\n",
    "We import the essential modules in the first cell -- if you borrow things from this document, make sure you include the relevant imports."
   ]
  },
  {
   "cell_type": "code",
   "execution_count": 1,
   "metadata": {},
   "outputs": [],
   "source": [
    "import numpy as np\n",
    "from scipy.integrate import odeint\n",
    "from scipy.integrate import quad\n",
    "from scipy.optimize import curve_fit\n",
    "from scipy.optimize import least_squares\n",
    "import matplotlib.pyplot as plt\n",
    "%matplotlib inline"
   ]
  },
  {
   "cell_type": "markdown",
   "metadata": {},
   "source": [
    "# Fit a function spanning orders-of-magnitude:\n",
    "\n",
    "Given data $(x,y)$, where $y$ spans orders of magnitude, fit a curve $y=f(x)$. Here we use $y=c x^m$ for parameters $m$ and $c$, with $0.1<y<60$.\n",
    "\n",
    "For data that spans multiple orders of magnitude, a direct curve_fit will gloss over the error for small values (errors are arithmetic differences, so a 500% error on 0.1 is \"smaller\" than a 1% error on 100). If you trust the small data and wish to find meaning in it, you have to add weight to it. Demonstrated here."
   ]
  },
  {
   "cell_type": "code",
   "execution_count": 2,
   "metadata": {},
   "outputs": [
    {
     "data": {
      "image/png": "[encoded data removed]",
      "text/plain": [
       "<Figure size 432x288 with 1 Axes>"
      ]
     },
     "metadata": {
      "needs_background": "light"
     },
     "output_type": "display_data"
    },
    {
     "name": "stdout",
     "output_type": "stream",
     "text": [
      "direct fit (dashed): m= -0.74 , c= 1.913\n"
     ]
    }
   ],
   "source": [
    "# import numpy as np\n",
    "# from scipy.optimize import curve_fit\n",
    "# import matplotlib.pyplot as plt\n",
    "\n",
    "# some data\n",
    "x_data=np.array([0.01,0.0158,0.0251,0.0398,0.0631,0.1,0.158,0.251,0.398,0.631,1,1.58,2.51,3.98,6.31,10])\n",
    "y_data=np.array([57.09,40.93,33.45,14.20,20.05,9.743,5.424,6.545,3.119,2.258,1.130,1.285,0.5426,0.3565,0.4626,0.1386])\n",
    "\n",
    "# function\n",
    "def pwrlaw(x,m,c): # independent variable x, two parameters m & c\n",
    "    return c*x**m\n",
    "\n",
    "# direct curve_fit to the (x,y) data set\n",
    "fits, _ = curve_fit(pwrlaw, x_data, y_data) # fitted parameters stored as array fits\n",
    "# we ignore the second output of this command, which is something like the error tolerance, by using _\n",
    "\n",
    "m=fits[0]\n",
    "c=fits[1]\n",
    "\n",
    "# plotting\n",
    "plt.loglog(x_data,y_data,'k.')\n",
    "plt.loglog(x_data,pwrlaw(x_data,m,c),'k--') # can call the function directly in plotting commands\n",
    "plt.show()\n",
    "print(\"direct fit (dashed):\",\"m=\",m.round(decimals=3),\", c=\",c.round(decimals=3))"
   ]
  },
  {
   "cell_type": "markdown",
   "metadata": {},
   "source": [
    "In the above, the fit for y<3 deviates considerably from the data. This can be alleviated by taking the log10 of the data and using a log10 of the fitting function. One possible implementation, without having to change the definition of the fitting function, uses a python lambda function (a function that is defined anonymously inline):"
   ]
  },
  {
   "cell_type": "code",
   "execution_count": 3,
   "metadata": {},
   "outputs": [
    {
     "data": {
      "image/png": "[encoded data removed]",
      "text/plain": [
       "<Figure size 432x288 with 1 Axes>"
      ]
     },
     "metadata": {
      "needs_background": "light"
     },
     "output_type": "display_data"
    },
    {
     "name": "stdout",
     "output_type": "stream",
     "text": [
      "direct fit (dashed) m= -0.74 , c= 1.913\n",
      "log fit (red) m= -0.834 , c= 1.394\n"
     ]
    }
   ],
   "source": [
    "# curve_fit with the log of the data. \n",
    "# lambda defines an inline function of variables x,m,c,\n",
    "# which we immediately use to call the fitting function pwrlaw(x,m,c)\n",
    "# through the prism of np.log10, making sure to take np.log10 of the y-data to be fit\n",
    "fits_log, _ = curve_fit(lambda x,m,c: np.log10(pwrlaw(x,m,c)), x_data, np.log10(y_data))\n",
    "\n",
    "m_log=fits_log[0]\n",
    "c_log=fits_log[1]\n",
    "\n",
    "#plotting\n",
    "plt.loglog(x_data,y_data,'k.')                     # exp data\n",
    "plt.loglog(x_data,pwrlaw(x_data,m,c),'k--')        # direct fit\n",
    "plt.loglog(x_data,pwrlaw(x_data,m_log,c_log),'r-') # log fit\n",
    "plt.show()\n",
    "\n",
    "print(\"direct fit (dashed)\",\"m=\",m.round(decimals=3),\", c=\",c.round(decimals=3))\n",
    "print(\"log fit (red)\",\"m=\",m_log.round(decimals=3),\", c=\",c_log.round(decimals=3))"
   ]
  },
  {
   "cell_type": "markdown",
   "metadata": {},
   "source": [
    "# Simultaneous fit for model with two states:\n",
    "\n",
    "Given two data sets $(x_1,y_1)$ and $(x_2,y_2)$ (example for rheologists: $G'$ and $G''$ data), fit $y_1=f(x_1;a,b,c)$ and $y_2=g(x_2;a,b,c)$. Here as an example we use a rheological model from:\n",
    "  \n",
    "  _C Hanotin, S Kiesgen de Richter, LJ Michot, Ph Marchal. \"Viscoelasticity of vibrated granular suspensions.\" Journal of rheology (2015)._  \n",
    "  \n",
    "...with two states and four parameters:\n",
    "\n",
    "* with no vibration: $\\tau = G \\gamma_\\text{c} + \\eta_\\text{H} \\dot{\\gamma}.\\quad\\quad$ \n",
    "* with vibration: $\\tau = \\gamma_\\text{c}\\frac{G+\\eta_\\text{H}~f_\\text{B}}{\\dot{\\gamma}+\\gamma_\\text{c}~f_\\text{B}}\\dot{\\gamma}+\\frac{\\eta_\\text{H}}{\\dot{\\gamma}+\\gamma_\\text{c}~f_\\text{B}}\\dot{\\gamma}^2$\n",
    "\n",
    "For a simultaneous fit, we must stitch together the two data sets and create different fitting targets for each half of the \n",
    "data. As such, a direct ```curve_fit``` will not work -- we must go deeper and use ```least_squares```.\n",
    "\n",
    "\n",
    "\n",
    "I worked with this a lot in my dissertation, data from here: \n",
    "  \n",
    "_JA Koch, DI Castaneda, RH Ewoldt, DA Lange. \"Vibration of fresh concrete understood through the paradigm of granular physics.\" Cement and Concrete Research (2019)._"
   ]
  },
  {
   "cell_type": "code",
   "execution_count": 4,
   "metadata": {},
   "outputs": [
    {
     "data": {
      "image/png": "[encoded data removed]",
      "text/plain": [
       "<Figure size 432x288 with 1 Axes>"
      ]
     },
     "metadata": {
      "needs_background": "light"
     },
     "output_type": "display_data"
    },
    {
     "name": "stdout",
     "output_type": "stream",
     "text": [
      "G= 1496.528 , gamma_c= 0.137 , eta_H= 9.792 , f_B= 0.39\n"
     ]
    }
   ],
   "source": [
    "# import numpy as np\n",
    "# from scipy.optimize import least_squares\n",
    "# import matplotlib.pyplot as plt\n",
    "\n",
    "# some data\n",
    "x_v_data=np.array([9.99991,6.30959,3.98105,2.51174,1.58487,0.99994,0.63104,0.39806,0.25115,0.15849,\n",
    "              0.09999,0.0631,0.0398,0.02512,0.01585,0.01])     # during vibration\n",
    "y_v_data=np.array([300.297,250.444,237.17,229.641,224.519,220.818,218.62,213.132,204.573,172.079,\n",
    "              135.38,99.5142,71.0392,49.0162,35.9663,26.9438]) # during vibration\n",
    "x_u_data=np.array([10.0002,6.30945,3.98143,2.51179,1.58505,0.99994,0.63107,0.3981,0.25121,0.15851,\n",
    "              0.09994,0.06301,0.03992,0.02517,0.016,0.00986])  # no vibration\n",
    "y_u_data=np.array([316.604,260.901,239.982,226.806,218.124,216.893,212.678,211.504,203.419,206.058,\n",
    "              201.123,205.835,192.87,204.989,179.441,187.024]) # no vibration\n",
    "\n",
    "# functions for TWO states: \n",
    "def u(x,G,gc,nH,fB): # no vibration... independent variable x and four parameters\n",
    "    return G*gc+nH*x\n",
    "\n",
    "def v(x,G,gc,nH,fB): # with vibration\n",
    "    return gc*(G+nH*fB)/(x+gc*fB)*x+nH/(x+gc*fB)*x**2\n",
    "\n",
    "# Here, the data is not fit to a single function. We instead define different targets\n",
    "# for each half of the data and then stitch the two sets into a single residual function \n",
    "# that gets least_squares-ified.\n",
    "def res_two_fxns(fits,x_v_data,y_v_data,x_u_data,y_u_data): \n",
    "    G =fits[0]\n",
    "    gc=fits[1]\n",
    "    nH=fits[2]\n",
    "    fB=fits[3]\n",
    "\n",
    "    #vib data\n",
    "    diff_v=y_v_data-v(x_v_data,G,gc,nH,fB)\n",
    "    #unv data\n",
    "    diff_u=y_u_data-u(x_u_data,G,gc,nH,fB)\n",
    "\n",
    "    return np.append(diff_v,diff_u)\n",
    "    # An array of differences between fit and data at each data point.\n",
    "    # This is the residuals function that the least squares routine is\n",
    "    # trying to minimize.\n",
    "\n",
    "# initial guess for parameters\n",
    "fit_guess=np.array([1000.,.2,10.,1.])\n",
    "\n",
    "# fit occurs through least_squares instead of curve_fit,\n",
    "result=least_squares(res_two_fxns,fit_guess,args=(x_v_data,y_v_data,x_u_data,y_u_data),bounds=(0, np.inf))\n",
    "# bounds can be used (including with an array for each parameter, e.g., bounds=([0, 0, -10, 1], [1, 1, 1, 3])\n",
    "# to focus the hunt for the optimum, prevent parameter from going negative, etc.\n",
    "\n",
    "G =result.x[0]  # output is slightly more complicated than that of curve_fit. result.x is an array of fits\n",
    "gc=result.x[1]\n",
    "nH=result.x[2]\n",
    "fB=result.x[3]\n",
    "\n",
    "\n",
    "# plotting\n",
    "plt.semilogx(x_u_data,y_u_data,'*')\n",
    "plt.semilogx(x_v_data,y_v_data,'*')\n",
    "plt.semilogx(x_u_data,u(x_u_data,G,gc,nH,fB),'-')\n",
    "plt.semilogx(x_v_data,v(x_v_data,G,gc,nH,fB),'-')\n",
    "plt.show()\n",
    "\n",
    "print(\"G=\",G.round(decimals=3),\", gamma_c=\",gc.round(decimals=3),\", eta_H=\",nH.round(decimals=3),\", f_B=\",fB.round(decimals=3))"
   ]
  },
  {
   "cell_type": "markdown",
   "metadata": {
    "collapsed": true
   },
   "source": [
    "# Fit a first-order ODE model:\n",
    "\n",
    "Given data $(t,x)$, fit a first-order ODE: $x'=f(x,t)$. Here we fit $y' = -y/\\tau$, which could be solved analytically and then fit. But let's demonstrate an ODE fit, including the fit to the initial condition."
   ]
  },
  {
   "cell_type": "code",
   "execution_count": 5,
   "metadata": {},
   "outputs": [
    {
     "data": {
      "image/png": "[encoded data removed]",
      "text/plain": [
       "<Figure size 432x288 with 1 Axes>"
      ]
     },
     "metadata": {
      "needs_background": "light"
     },
     "output_type": "display_data"
    },
    {
     "name": "stdout",
     "output_type": "stream",
     "text": [
      "y0= 15.718 , tau= 0.275\n"
     ]
    }
   ],
   "source": [
    "# import numpy as np\n",
    "# from scipy.integrate import odeint\n",
    "# from scipy.optimize import curve_fit\n",
    "# import matplotlib.pyplot as plt\n",
    "\n",
    "# some data\n",
    "t_data=np.array([0,0.1,0.2,0.3,0.4,0.5,0.6,0.7,0.8,0.9,1,1.1,1.2,1.3,1.4,1.5,1.6,1.7,1.8,1.9,2])\n",
    "y_data=np.array([15.88,11.04,6.845,5.232,4.003,2.643,1.790,1.402,1.060,0.6837,0.5205,0.3402,0.2777,\n",
    "                 0.1704,0.1265,0.09785,0.06003,0.04246,0.03522,0.02437,0.01563])\n",
    "\n",
    "def s_dot(y,t,tau): # the actual ODE, but this is not called directly by curve_fit\n",
    "    return -y/tau\n",
    "\n",
    "def s(t,y0,tau):    # the fitting function called by curve_fit with two parameters: y0 and tau\n",
    "    y_fit=odeint(s_dot, y0, t, args=(tau,))\n",
    "    # args expects a duple of parameters, but we only have one, so we have to use the silly looking (tau,)\n",
    "    return y_fit[:,0]\n",
    "\n",
    "# curve_fit calls a function that returns y. That y comes from an ODE for y_prime called via odeint.\n",
    "# So we are fitting y-data to the parameters in the ODE.\n",
    "fits,_=curve_fit(s,t_data,y_data,bounds=(0, np.inf))\n",
    "y0=fits[0]\n",
    "tau=fits[1]\n",
    "\n",
    "\n",
    "# plotting\n",
    "plt.plot(t_data,y_data,'*')\n",
    "plt.plot(t_data,s(t_data,y0,tau),'-')\n",
    "plt.show()\n",
    "\n",
    "print(\"y0=\",y0.round(decimals=3),\", tau=\",tau.round(decimals=3))"
   ]
  },
  {
   "cell_type": "markdown",
   "metadata": {},
   "source": [
    "# Fit a second-order ODE model:\n",
    "\n",
    "Damped harmonic oscillator: $\\ddot{x}+2\\zeta \\omega_0 \\dot{x} + \\omega_0^2 x = 0$, including a fit to the initial conditions. Similar to above.\n"
   ]
  },
  {
   "cell_type": "code",
   "execution_count": 6,
   "metadata": {},
   "outputs": [
    {
     "data": {
      "image/png": "[encoded data removed]",
      "text/plain": [
       "<Figure size 432x288 with 1 Axes>"
      ]
     },
     "metadata": {
      "needs_background": "light"
     },
     "output_type": "display_data"
    },
    {
     "name": "stdout",
     "output_type": "stream",
     "text": [
      "y0= 0.102 , yp0= 0.859 , z= 0.21 , w0= 0.921\n"
     ]
    }
   ],
   "source": [
    "# import numpy as np\n",
    "# from scipy.integrate import odeint\n",
    "# from scipy.optimize import curve_fit\n",
    "# import matplotlib.pyplot as plt\n",
    "\n",
    "# some data\n",
    "t_data=np.array([0,0.5,1,1.5,2,2.5,3,3.5,4,4.5,5,5.5,6,6.5,7,7.5,8,8.5,9,9.5,10])\n",
    "y_data=np.array([0.1037,0.4765,0.6634,0.7385,0.6364,0.4109,.1918,-0.0506,-0.2429,\n",
    "                 -0.3637,-0.3833,-0.3242,-0.2041,-0.0929,0.0300,0.1258,0.1763,0.1769,0.1559,0.1096,0.0428])\n",
    "\n",
    "# second order equations get solved via odeint, but with a array input:\n",
    "# Y=(yp,y), \"y prime\" and y, parameters z and w0.\n",
    "def ODE2(Y,t,z,w0): \n",
    "    yp,y = Y\n",
    "    ypp = -2*z*w0*yp- w0**2*y\n",
    "    return [ypp,yp]\n",
    "\n",
    "def fit_ODE(t,yp0,y0,z,w0):\n",
    "    Y0=[yp0,y0]\n",
    "    y_fit=odeint(ODE2, Y0, t, args=(z,w0))\n",
    "    return y_fit[:,1] # returns the fit to the y data\n",
    "\n",
    "fits,_=curve_fit(fit_ODE,t_data,y_data,bounds=(0, np.inf))\n",
    "\n",
    "\n",
    "yp0=fits[0]\n",
    "y0 =fits[1]\n",
    "z  =fits[2]\n",
    "w0 =fits[3]\n",
    "\n",
    "\n",
    "# plotting\n",
    "t_fit=np.linspace(0,max(t_data),100) # smooth function with more data\n",
    "plt.plot(t_data,y_data,'*')\n",
    "plt.plot(t_fit,fit_ODE(t_fit,yp0,y0,z,w0),'-')\n",
    "plt.show()\n",
    "\n",
    "print(\"y0=\",y0.round(decimals=3),\", yp0=\",yp0.round(decimals=3),\", z=\",z.round(decimals=3),\", w0=\",w0.round(decimals=3))"
   ]
  },
  {
   "cell_type": "markdown",
   "metadata": {},
   "source": [
    "# Additional notes\n",
    "\n",
    "1. I usually upload data from csv files because that method consistently worked, but you might have success with other filetypes. The following uploads a csv file, located in the current working directory, into a numpy \"array\" (actually a matrix), with the first column being ```x```-data and the second being ```y```-data.\n",
    "~~~~\n",
    "data = np.loadtxt(open(\"speed_data.csv\"),delimiter=',',dtype=np.float)\n",
    "x=data[:,0]\n",
    "y=data[:,1]\n",
    "~~~~\n",
    "you may additionally find (from the pandas package) a bit of code like\n",
    "~~~~\n",
    "import pandas as pd\n",
    "x=pd.read_clipboard(header=None) \n",
    "t=x.values[:,0]\n",
    "E=x.values[:,1]\n",
    "~~~~\n",
    "to be useful -- it reads in data on your clipboard, e.g. after copying from excel. If the columns of data have headers (e.g., variable names or units) must change to ```header=[0,1]```.\n",
    "\n",
    "\n",
    "\n",
    "2. Piecewise functions are probably easiest to define using python lambda functions. Below, the function returns zero until ```x``` reaches a critical value ```Ec```, with $E_c$ potentially being a parameter in the fit.\n",
    "~~~~\n",
    "def Fx(x,T,Ec,n):\n",
    "    y = np.piecewise(x, [x < Ec, x >= Ec], [lambda x:0, lambda x:1./T*((x/Ec)**2.-1.)**n])\n",
    "    return y\n",
    "~~~~\n",
    "3. Sometimes you will have a model with a parameter that you DO NOT want to fit (e.g., if the parameter is a controlled input in the experiment). We can handle this with a lambda function. Below, ```x``` is a function of ```t,a,b,Q```. To avoid fitting ```Q```, we define a lambda function that depends on ```t,a,b``` and not on ```Q```. Then technically ```curve_fit``` is performed on the lambda function, not on the original function ```x```.\n",
    "~~~~\n",
    "def x(t,a,b,Q):\n",
    "    return Q+a*t+b*t**2\n",
    "Q=2.5\n",
    "fits,_=curve_fit(lambda t,a,b: x(t,a,b,Q),t_data,x_data,bounds=(0, np.inf))\n",
    "~~~~"
   ]
  }
 ],
 "metadata": {
  "anaconda-cloud": {},
  "hide_input": false,
  "kernelspec": {
   "display_name": "Python [conda env:Anaconda3]",
   "language": "python",
   "name": "conda-env-Anaconda3-py"
  },
  "language_info": {
   "codemirror_mode": {
    "name": "ipython",
    "version": 3
   },
   "file_extension": ".py",
   "mimetype": "text/x-python",
   "name": "python",
   "nbconvert_exporter": "python",
   "pygments_lexer": "ipython3",
   "version": "3.5.6"
  },
  "latex_envs": {
   "LaTeX_envs_menu_present": true,
   "autoclose": false,
   "autocomplete": true,
   "bibliofile": "biblio.bib",
   "cite_by": "apalike",
   "current_citInitial": 1,
   "eqLabelWithNumbers": true,
   "eqNumInitial": 1,
   "hotkeys": {
    "equation": "Ctrl-E",
    "itemize": "Ctrl-I"
   },
   "labels_anchors": false,
   "latex_user_defs": false,
   "report_style_numbering": false,
   "user_envs_cfg": false
  },
  "toc": {
   "base_numbering": 1,
   "nav_menu": {},
   "number_sections": true,
   "sideBar": true,
   "skip_h1_title": false,
   "title_cell": "Table of Contents",
   "title_sidebar": "Contents",
   "toc_cell": false,
   "toc_position": {},
   "toc_section_display": true,
   "toc_window_display": false
  },
  "varInspector": {
   "cols": {
    "lenName": 16,
    "lenType": 16,
    "lenVar": 40
   },
   "kernels_config": {
    "python": {
     "delete_cmd_postfix": "",
     "delete_cmd_prefix": "del ",
     "library": "var_list.py",
     "varRefreshCmd": "print(var_dic_list())"
    },
    "r": {
     "delete_cmd_postfix": ") ",
     "delete_cmd_prefix": "rm(",
     "library": "var_list.r",
     "varRefreshCmd": "cat(var_dic_list()) "
    }
   },
   "types_to_exclude": [
    "module",
    "function",
    "builtin_function_or_method",
    "instance",
    "_Feature"
   ],
   "window_display": false
  }
 },
 "nbformat": 4,
 "nbformat_minor": 1
}
